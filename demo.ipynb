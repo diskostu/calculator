{
  "nbformat": 4,
  "nbformat_minor": 0,
  "metadata": {
    "colab": {
      "provenance": [],
      "authorship_tag": "ABX9TyMGX7GwIUXhH4DX+QTkrEqK",
      "include_colab_link": true
    },
    "kernelspec": {
      "name": "python3",
      "display_name": "Python 3"
    },
    "language_info": {
      "name": "python"
    }
  },
  "cells": [
    {
      "cell_type": "markdown",
      "metadata": {
        "id": "view-in-github",
        "colab_type": "text"
      },
      "source": [
        "<a href=\"https://colab.research.google.com/github/diskostu/calculator/blob/master/demo.ipynb\" target=\"_parent\"><img src=\"https://colab.research.google.com/assets/colab-badge.svg\" alt=\"Open In Colab\"/></a>"
      ]
    },
    {
      "cell_type": "markdown",
      "source": [
        "Das ist mein Demo-Notebook. Nur dinge zum Testen."
      ],
      "metadata": {
        "id": "-FrTbmYvhqRc"
      }
    },
    {
      "cell_type": "code",
      "execution_count": 7,
      "metadata": {
        "id": "WjAaORrAgwhA"
      },
      "outputs": [],
      "source": [
        "import numpy as np\n",
        "import pandas as pd"
      ]
    },
    {
      "cell_type": "markdown",
      "source": [
        "Import done! 😊"
      ],
      "metadata": {
        "id": "He5IegB6hx8p"
      }
    },
    {
      "cell_type": "code",
      "source": [
        "# create and populate a 5x2 NumPy Array\n",
        "my_data = np.array([[0, 3], [10, 7], [20, 9], [30, 14], [40, 15]])\n",
        "\n",
        "# create a Python list that holds the names of the 2 columns\n",
        "my_column_names = ['temperature', 'activity']\n",
        "\n",
        "# create a dataframe\n",
        "my_dataframe = pd.DataFrame(data=my_data, columns=my_column_names)\n",
        "\n",
        "# print the entire dataframe\n",
        "print(my_dataframe)"
      ],
      "metadata": {
        "colab": {
          "base_uri": "https://localhost:8080/"
        },
        "id": "cnycNu9vh2lS",
        "outputId": "21ebaf1a-5cdb-4d71-be39-b1ec9f3a65f3"
      },
      "execution_count": 8,
      "outputs": [
        {
          "output_type": "stream",
          "name": "stdout",
          "text": [
            "   temperature  activity\n",
            "0            0         3\n",
            "1           10         7\n",
            "2           20         9\n",
            "3           30        14\n",
            "4           40        15\n"
          ]
        }
      ]
    },
    {
      "cell_type": "code",
      "source": [
        "# create a new column named \"adjusted\"\n",
        "my_dataframe[\"adjusted\"] = my_dataframe[\"activity\"] + 2\n",
        "\n",
        "# print the entire dataframe\n",
        "print(my_dataframe)"
      ],
      "metadata": {
        "colab": {
          "base_uri": "https://localhost:8080/"
        },
        "id": "KyzNrYCJkvqh",
        "outputId": "1ed6c640-e8d1-4808-80db-52084b6bb291"
      },
      "execution_count": 9,
      "outputs": [
        {
          "output_type": "stream",
          "name": "stdout",
          "text": [
            "   temperature  activity  adjusted\n",
            "0            0         3         5\n",
            "1           10         7         9\n",
            "2           20         9        11\n",
            "3           30        14        16\n",
            "4           40        15        17\n"
          ]
        }
      ]
    },
    {
      "cell_type": "code",
      "source": [
        "print(\"Rows #0, #1, and #2\")\n",
        "print(my_dataframe.head(3), '\\n')\n",
        "\n",
        "print(\"Row #2\")\n",
        "print(my_dataframe.iloc[[2]], '\\n') # double brackets -> data frame (we want this)\n",
        "# print(my_dataframe.iloc[2], '\\n')   # single brackets -> series\n",
        "\n",
        "print(\"Rows 1, 2 and 3\")\n",
        "print(my_dataframe[1:4], '\\n')\n",
        "\n",
        "print(\"Column 'temperature'\")\n",
        "print(my_dataframe['temperature'])"
      ],
      "metadata": {
        "colab": {
          "base_uri": "https://localhost:8080/"
        },
        "collapsed": true,
        "id": "SFrsqFYNlg_T",
        "outputId": "59a3c02d-c89e-4d83-fef4-043347337b7e"
      },
      "execution_count": 10,
      "outputs": [
        {
          "output_type": "stream",
          "name": "stdout",
          "text": [
            "Rows #0, #1, and #2\n",
            "   temperature  activity  adjusted\n",
            "0            0         3         5\n",
            "1           10         7         9\n",
            "2           20         9        11 \n",
            "\n",
            "Row #2\n",
            "   temperature  activity  adjusted\n",
            "2           20         9        11 \n",
            "\n",
            "Rows 1, 2 and 3\n",
            "   temperature  activity  adjusted\n",
            "1           10         7         9\n",
            "2           20         9        11\n",
            "3           30        14        16 \n",
            "\n",
            "Column 'temperature'\n",
            "0     0\n",
            "1    10\n",
            "2    20\n",
            "3    30\n",
            "4    40\n",
            "Name: temperature, dtype: int64\n"
          ]
        }
      ]
    },
    {
      "cell_type": "code",
      "source": [
        "# create the column names (4)\n",
        "task1_column_names = ['Eleanor', 'Chidi', 'Tahani', 'Jason']\n",
        "# create random data as an array: 3 rows, 4 columns\n",
        "task1_data = np.random.randint(low=0, high=101, size=(3, 4))\n",
        "\n",
        "# combine column names and random data to a data frame\n",
        "task1_dataframe = pd.DataFrame(data=task1_data, columns=task1_column_names)\n",
        "print(task1_dataframe)\n",
        "\n",
        "# select the value of a \"cell\"\n",
        "print()\n",
        "print(\"value of row #1, column 'Eleanor'\")\n",
        "print(task1_dataframe['Eleanor'][1])\n",
        "\n",
        "# add a fifth column. Its value is populated from 2 other column values.\n",
        "task1_dataframe['Janet'] = task1_dataframe['Tahani'] + task1_dataframe['Jason']\n",
        "print()\n",
        "print(task1_dataframe)"
      ],
      "metadata": {
        "colab": {
          "base_uri": "https://localhost:8080/"
        },
        "id": "0Bg_DpvKnA-O",
        "outputId": "2fd4314c-3fd2-4839-b7b3-79fc34635f17",
        "collapsed": true
      },
      "execution_count": 11,
      "outputs": [
        {
          "output_type": "stream",
          "name": "stdout",
          "text": [
            "   Eleanor  Chidi  Tahani  Jason\n",
            "0       23     95      81     26\n",
            "1       66     24      13     64\n",
            "2       98     94      42     15\n",
            "\n",
            "value of row #1, column 'Eleanor'\n",
            "66\n",
            "\n",
            "   Eleanor  Chidi  Tahani  Jason  Janet\n",
            "0       23     95      81     26    107\n",
            "1       66     24      13     64     77\n",
            "2       98     94      42     15     57\n"
          ]
        }
      ]
    },
    {
      "cell_type": "code",
      "source": [
        "import matplotlib.pyplot as plt\n",
        "import numpy as np\n",
        "\n",
        "# Sample data for car weights (pounds) and miles per gallon (mpg)\n",
        "# Replace this with your actual data\n",
        "pounds = np.array([2.5, 2.8, 3.2, 3.5, 3.9])  # Example car weights in thousands of pounds\n",
        "mpg = np.array([28, 25, 22, 20, 18])  # Example corresponding mpg values\n",
        "\n",
        "# Calculate and plot the regression line\n",
        "m, b = np.polyfit(pounds, mpg, 1)\n",
        "\n",
        "# Get figure and axes objects\n",
        "fig, ax = plt.subplots()  # Create figure and axes\n",
        "\n",
        "# Plot the scatter points\n",
        "ax.scatter(pounds, mpg)\n",
        "\n",
        "ax.set_xlim(left=0, right=5)\n",
        "ax.set_ylim(bottom=0, top=35)\n",
        "ax.grid(True)\n",
        "\n",
        "# Calculate regression line endpoints using figure dimensions\n",
        "x_min, x_max = ax.get_xlim()\n",
        "regression_line_x = np.array([x_min, x_max])\n",
        "regression_line_y = m * regression_line_x + b\n",
        "\n",
        "# Plot the regression line\n",
        "ax.plot(regression_line_x, regression_line_y, color='red', label='Best Fit Line')\n",
        "\n",
        "# Add labels and title\n",
        "ax.set_xlabel(\"Pounds in 1000s (feature)\")\n",
        "ax.set_ylabel(\"Miles per gallon (label)\")\n",
        "ax.set_title(\"Car Heaviness vs. Miles per Gallon\")\n",
        "\n",
        "plt.text(0.0, -0.2, f\"Bias (Intercept): {b:.2f}\", transform=ax.transAxes)\n",
        "plt.text(0.0, -0.3, f\"Slope: {m:.2f}\", transform=ax.transAxes)\n",
        "\n",
        "# Add legend (optional)\n",
        "ax.legend()\n",
        "\n",
        "# Show the plot\n",
        "plt.show()\n",
        "\n",
        "car1 = 33.59 + (-4.57)*1\n",
        "car2 = 33.59 + (-4.57)*5\n",
        "print(\"car1 %s: \" % car1)\n",
        "print(\"car2 %s: \" % car2)"
      ],
      "metadata": {
        "colab": {
          "base_uri": "https://localhost:8080/",
          "height": 577
        },
        "id": "D_1ReEeiD3Md",
        "outputId": "277496d0-d134-4792-d02a-311b935e4929"
      },
      "execution_count": 12,
      "outputs": [
        {
          "output_type": "display_data",
          "data": {
            "text/plain": [
              "<Figure size 640x480 with 1 Axes>"
            ],
            "image/png": "[encoded data removed]"
          },
          "metadata": {}
        },
        {
          "output_type": "stream",
          "name": "stdout",
          "text": [
            "car1 29.020000000000003: \n",
            "car2 10.740000000000002: \n"
          ]
        }
      ]
    }
  ]
}